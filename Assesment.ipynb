{
  "nbformat": 4,
  "nbformat_minor": 0,
  "metadata": {
    "colab": {
      "provenance": [],
      "authorship_tag": "ABX9TyN8FwF1kXqld5VxFMQXLyKt",
      "include_colab_link": true
    },
    "kernelspec": {
      "name": "python3",
      "display_name": "Python 3"
    },
    "language_info": {
      "name": "python"
    }
  },
  "cells": [
    {
      "cell_type": "markdown",
      "metadata": {
        "id": "view-in-github",
        "colab_type": "text"
      },
      "source": [
        "<a href=\"https://colab.research.google.com/github/basangoudapatil/-Basangouda_patil-Dendrite.ai-Data-Scientist-Internship-Guvi/blob/main/Assesment.ipynb\" target=\"_parent\"><img src=\"https://colab.research.google.com/assets/colab-badge.svg\" alt=\"Open In Colab\"/></a>"
      ]
    },
    {
      "cell_type": "markdown",
      "source": [
        "# **Import the Necessary Libraries**"
      ],
      "metadata": {
        "id": "omELjvsiEWFC"
      }
    },
    {
      "cell_type": "code",
      "execution_count": 1,
      "metadata": {
        "id": "qI_-VLhtqXF6"
      },
      "outputs": [],
      "source": [
        "import pandas as pd\n",
        "import numpy as np\n",
        "import json"
      ]
    },
    {
      "cell_type": "markdown",
      "source": [
        "# **Read the json file(convert the rtf to json format) and the Dataset**\n",
        "Look for any missing values, data types and etc."
      ],
      "metadata": {
        "id": "nKAl4mIoEdaj"
      }
    },
    {
      "cell_type": "code",
      "source": [
        "file = open('/content/algoparams_from_ui.json.json','r')\n",
        "data = json.load(file)\n",
        "print(type(data))"
      ],
      "metadata": {
        "colab": {
          "base_uri": "https://localhost:8080/"
        },
        "id": "uJ-k6EbQqiki",
        "outputId": "e744ad0f-ead5-449f-eb55-5838d2e06104"
      },
      "execution_count": 2,
      "outputs": [
        {
          "output_type": "stream",
          "name": "stdout",
          "text": [
            "<class 'dict'>\n"
          ]
        }
      ]
    },
    {
      "cell_type": "code",
      "source": [
        "print(data)"
      ],
      "metadata": {
        "colab": {
          "base_uri": "https://localhost:8080/"
        },
        "id": "E8kjrbfC062D",
        "outputId": "d6a52ca9-c928-463f-d59a-5adedf261944"
      },
      "execution_count": 3,
      "outputs": [
        {
          "output_type": "stream",
          "name": "stdout",
          "text": [
            "{'\\ufeff{\\n    \"session_name\": \"test\",\\n    \"session_description\": \"test\",\\n    \"design_state_data\": {\\n\\n      \"session_info\" : {\\n        \"project_id\": \"1\",\\n        \"experiment_id\": \"kkkk-11\",\\n        \"dataset\":\"iris_modified.csv\",\\n        \"session_name\": \"test\",\\n        \"session_description\": \"test\"\\n        },\\n\\n      \"target\": {\\n        \"prediction_type\": \"Regression\",\\n        \"target\": \"petal_width\",\\n        \"type\":\"regression\",\\n        \"partitioning\": true\\n      },\\n      \"train\": {\\n        \"policy\": \"Split the dataset\",\\n        \"time_variable\": \"sepal_length\",\\n        \"sampling_method\": \"No sampling(whole data)\",\\n        \"split\": \"Randomly\",\\n        \"k_fold\": false,\\n        \"train_ratio\": 0,\\n        \"random_seed\": 0\\n      },\\n      \"metrics\": {\\n        \"optomize_model_hyperparameters_for\": \"AUC\",\\n        \"optimize_threshold_for\": \"F1 Score\",\\n        \"compute_lift_at\": 0,\\n        \"cost_matrix_gain_for_true_prediction_true_result\": 1,\\n        \"cost_matrix_gain_for_true_prediction_false_result\": 0,\\n        \"cost_matrix_gain_for_false_prediction_true_result\": 0,\\n        \"cost_matrix_gain_for_false_prediction_false_result\": 0\\n      },\\n      \"feature_handling\": {\\n        \"sepal_length\": {\\n          \"feature_name\": \"sepal_length\",\\n          \"is_selected\": true,\\n          \"feature_variable_type\": \"numerical\",\\n          \"feature_details\": {\\n            \"numerical_handling\": \"Keep as regular numerical feature\",\\n            \"rescaling\": \"No rescaling\",\\n            \"make_derived_feats\": false,\\n            \"missing_values\": \"Impute\",\\n            \"impute_with\": \"Average of values\",\\n            \"impute_value\": 0\\n          }\\n        },\\n        \"sepal_width\": {\\n          \"feature_name\": \"sepal_width\",\\n          \"is_selected\": true,\\n          \"feature_variable_type\": \"numerical\",\\n          \"feature_details\": {\\n            \"numerical_handling\": \"Keep as regular numerical feature\",\\n            \"rescaling\": \"No rescaling\",\\n            \"make_derived_feats\": false,\\n            \"missing_values\": \"Impute\",\\n            \"impute_with\": \"custom\",\\n            \"impute_value\": -1\\n          }\\n        },\\n        \"petal_length\": {\\n          \"feature_name\": \"petal_length\",\\n          \"is_selected\": true,\\n          \"feature_variable_type\": \"numerical\",\\n          \"feature_details\": {\\n            \"numerical_handling\": \"Keep as regular numerical feature\",\\n            \"rescaling\": \"No rescaling\",\\n            \"make_derived_feats\": false,\\n            \"missing_values\": \"Impute\",\\n            \"impute_with\": \"Average of values\",\\n            \"impute_value\": 0\\n          }\\n        },\\n        \"petal_width\": {\\n          \"feature_name\": \"petal_width\",\\n          \"is_selected\": true,\\n          \"feature_variable_type\": \"numerical\",\\n          \"feature_details\": {\\n            \"numerical_handling\": \"Keep as regular numerical feature\",\\n            \"rescaling\": \"No rescaling\",\\n            \"make_derived_feats\": false,\\n            \"missing_values\": \"Impute\",\\n            \"impute_with\": \"custom\",\\n            \"impute_value\": -2\\n          }\\n        },\\n        \"species\": {\\n          \"feature_name\": \"species\",\\n          \"is_selected\": true,\\n          \"feature_variable_type\": \"text\",\\n          \"feature_details\": {\\n            \"text_handling\": \"Tokenize and hash\",\\n            \"hash_columns\": 0\\n          }\\n        }\\n      },\\n      \"feature_generation\": {\\n        \"linear_interactions\": [[\"petal_length\", \"sepal_width\"]],\\n        \"linear_scalar_type\": \"robust\",\\n        \"polynomial_interactions\": [\\n          \"petal_length/sepal_width\",\\n          \"petal_width/species\"\\n        ],\\n        \"explicit_pairwise_interactions\": [\\n          \"sepal_width/sepal_length\",\\n          \"petal_width/sepal_length\"\\n        ]\\n      },\\n      \"feature_reduction\": {\\n        \"feature_reduction_method\": \"Tree-based\",\\n        \"num_of_features_to_keep\": \"4\",\\n        \"num_of_trees\": \"5\",\\n        \"depth_of_trees\": \"6\"\\n      },\\n      \"hyperparameters\": {\\n        \"stratergy\": \"Grid Search\",\\n        \"shuffle_grid\": true,\\n        \"random_state\": 1,\\n        \"max_iterations\": 2,\\n        \"max_search_time\": 3,\\n        \"parallelism\": 5,\\n        \"cross_validation_stratergy\": \"Time-based K-fold(with overlap)\",\\n        \"num_of_folds\": 6,\\n        \"split_ratio\": 0,\\n        \"stratified\": true\\n      },\\n      \"weighting_stratergy\": {\\n        \"weighting_stratergy_method\": \"Sample weights\",\\n        \"weighting_stratergy_weight_variable\": \"petal_length\"\\n      },\\n      \"probability_calibration\": {\\n        \"probability_calibration_method\": \"Sigmoid - Platt Scaling\"\\n      },\\n      \"algorithms\": {\\n        \"RandomForestClassifier\": {\\n          \"model_name\": \"Random Forest Classifier\",\\n          \"is_selected\": false,\\n          \"min_trees\": 10,\\n          \"max_trees\": 30,\\n          \"feature_sampling_statergy\": \"Default\",\\n          \"min_depth\": 20,\\n          \"max_depth\": 30,\\n          \"min_samples_per_leaf_min_value\": 5,\\n          \"min_samples_per_leaf_max_value\": 50,\\n          \"parallelism\": 0\\n        },\\n        \"RandomForestRegressor\": {\\n          \"model_name\": \"Random Forest Regressor\",\\n          \"is_selected\": true,\\n          \"min_trees\": 10,\\n          \"max_trees\": 20,\\n          \"feature_sampling_statergy\": \"Default\",\\n          \"min_depth\": 20,\\n          \"max_depth\": 25,\\n          \"min_samples_per_leaf_min_value\": 5,\\n          \"min_samples_per_leaf_max_value\": 10,\\n          \"parallelism\": 0\\n        },\\n        \"GBTClassifier\": {\\n          \"model_name\": \"Gradient Boosted Trees\",\\n          \"is_selected\": false,\\n          \"num_of_BoostingStages\": [67, 89],\\n          \"feature_sampling_statergy\": \"Fixed number\",\\n          \"learningRate\": [],\\n          \"use_deviance\": true,\\n          \"use_exponential\": false,\\n          \"fixed_number\": 22,\\n          \"min_subsample\": 1,\\n          \"max_subsample\": 2,\\n          \"min_stepsize\":0.1,\\n          \"max_stepsize\":0.5, \\n          \"min_iter\":20,\\n          \"max_iter\":40,\\n          \"min_depth\":5,\\n          \"max_depth\":7\\n\\n        },\\n        \"GBTRegressor\": {\\n          \"model_name\": \"Gradient Boosted Trees\",\\n          \"is_selected\": false,\\n          \"num_of_BoostingStages\": [67, 89],\\n          \"feature_sampling_statergy\": \"Fixed number\",\\n          \"use_deviance\": true,\\n          \"use_exponential\": false,\\n          \"fixed_number\": 22,\\n          \"min_subsample\": 1,\\n          \"max_subsample\": 2,\\n          \"min_stepsize\":0.1,\\n          \"max_stepsize\":0.5, \\n          \"min_iter\":20,\\n          \"max_iter\":40,\\n          \"min_depth\":5,\\n          \"max_depth\":7\\n        },\\n        \"LinearRegression\": {\\n          \"model_name\": \"LinearRegression\",\\n          \"is_selected\": false,\\n          \"parallelism\": 2,\\n          \"min_iter\":30,\\n          \"max_iter\":50,\\n          \"min_regparam\":0.5,\\n          \"max_regparam\":0.8,\\n          \"min_elasticnet\":0.5,\\n          \"max_elasticnet\":0.8\\n        },\\n        \"LogisticRegression\": {\\n          \"model_name\": \"LogisticRegression\",\\n          \"is_selected\": false,\\n          \"parallelism\": 2,\\n          \"min_iter\":30,\\n          \"max_iter\":50,\\n          \"min_regparam\":0.5,\\n          \"max_regparam\":0.8,\\n          \"min_elasticnet\":0.5,\\n          \"max_elasticnet\":0.8\\n        },\\n        \"RidgeRegression\": {\\n          \"model_name\": \"RidgeRegression\",\\n          \"is_selected\": false,\\n          \"regularization_term\": \"Specify values to test\",\\n          \"min_iter\":30,\\n          \"max_iter\":50,\\n          \"min_regparam\":0.5,\\n          \"max_regparam\":0.8\\n        },\\n        \"LassoRegression\": {\\n          \"model_name\": \"Lasso Regression\",\\n          \"is_selected\": false,\\n          \"regularization_term\": \"Specify values to test\",\\n          \"min_iter\":30,\\n          \"max_iter\":50,\\n          \"min_regparam\":0.5,\\n          \"max_regparam\":0.8\\n        },\\n        \"ElasticNetRegression\": {\\n          \"model_name\": \"Lasso Regression\",\\n          \"is_selected\": false,\\n          \"regularization_term\": \"Specify values to test\",\\n          \"min_iter\":30,\\n          \"max_iter\":50,\\n          \"min_regparam\":0.5,\\n          \"max_regparam\":0.8,\\n          \"min_elasticnet\":0.5,\\n          \"max_elasticnet\":0.8\\n        },\\n        \"xg_boost\": {\\n          \"model_name\": \"XG Boost\",\\n          \"is_selected\": false,\\n          \"use_gradient_boosted_tree\": true,\\n          \"dart\": true,\\n          \"tree_method\": \"\",\\n          \"random_state\": 0,\\n          \"max_num_of_trees\": 0,\\n          \"early_stopping\": true,\\n          \"early_stopping_rounds\": 2,\\n          \"max_depth_of_tree\": [56, 89], \\n          \"learningRate\": [89, 76],\\n          \"l1_regularization\": [77],\\n          \"l2_regularization\": [78],\\n          \"gamma\": [68],\\n          \"min_child_weight\": [67],\\n          \"sub_sample\": [67],\\n          \"col_sample_by_tree\": [67],\\n          \"replace_missing_values\": false,\\n          \"parallelism\": 0\\n        },\\n        \"DecisionTreeRegressor\": {\\n          \"model_name\": \"Decision Tree\",\\n          \"is_selected\": false,\\n          \"min_depth\":4,\\n          \"max_depth\": 7,\\n          \"use_gini\": false,\\n          \"use_entropy\": true,\\n          \"min_samples_per_leaf\": [12, 6],\\n          \"use_best\": true,\\n          \"use_random\": true\\n        },\\n        \"DecisionTreeClassifier\": {\\n          \"model_name\": \"Decision Tree\",\\n          \"is_selected\": false,\\n          \"min_depth\":4,\\n          \"max_depth\": 7,\\n          \"use_gini\": false,\\n          \"use_entropy\": true,\\n          \"min_samples_per_leaf\": [12, 6],\\n          \"use_best\": true,\\n          \"use_random\": true\\n        },\\n        \"SVM\": {\\n          \"model_name\": \"Support Vector Machine\",\\n          \"is_selected\": false,\\n          \"linear_kernel\": true,\\n          \"rep_kernel\": true,\\n          \"polynomial_kernel\": true,\\n          \"sigmoid_kernel\": true,\\n          \"c_value\": [566, 79],\\n          \"auto\": true,\\n          \"scale\": true,\\n          \"custom_gamma_values\": true,\\n          \"tolerance\": 7,\\n          \"max_iterations\": 7\\n        },\\n        \"SGD\": {\\n          \"model_name\": \"Stochastic Gradient Descent\",\\n          \"is_selected\": false,\\n          \"use_logistics\": true,\\n          \"use_modified_hubber_loss\": false,\\n          \"max_iterations\": false,\\n          \"tolerance\": 56,\\n          \"use_l1_regularization\": \"on\",\\n          \"use_l2_regularization\": \"on\",\\n          \"use_elastic_net_regularization\": true,\\n          \"alpha_value\": [79, 56],\\n          \"parallelism\": 1\\n        },\\n        \"KNN\": {\\n          \"model_name\": \"KNN\",\\n          \"is_selected\": false,\\n          \"k_value\": [78],\\n          \"distance_weighting\": true,\\n          \"neighbour_finding_algorithm\": \"Automatic\",\\n          \"random_state\": 0,\\n          \"p_value\": 0\\n        },\\n        \"extra_random_trees\": {\\n          \"model_name\": \"Extra Random Trees\",\\n          \"is_selected\": false,\\n          \"num_of_trees\": [45, 489],\\n          \"feature_sampling_statergy\": \"Square root and Logarithm\",\\n          \"max_depth\": [12, 45],\\n          \"min_samples_per_leaf\": [78, 56],\\n          \"parallelism\": 3\\n        },\\n        \"neural_network\": {\\n          \"model_name\": \"Neural Network\",\\n          \"is_selected\": false,\\n          \"hidden_layer_sizes\": [67, 89],\\n          \"activation\": \"\",\\n          \"alpha_value\": 0,\\n          \"max_iterations\": 0,\\n          \"convergence_tolerance\": 0,\\n          \"early_stopping\": true,\\n          \"solver\": \"ADAM\",\\n          \"shuffle_data\": true,\\n          \"initial_learning_rate\": 0,\\n          \"automatic_batching\": true,\\n          \"beta_1\": 0,\\n          \"beta_2\": 0,\\n          \"epsilon\": 0,\\n          \"power_t\": 0,\\n          \"momentum\": 0,\\n          \"use_nesterov_momentum\": false\\n        }\\n      }\\n    }\\n  }': None}\n"
          ]
        }
      ]
    },
    {
      "cell_type": "code",
      "source": [
        "for i in data:\n",
        "  print(i)"
      ],
      "metadata": {
        "colab": {
          "base_uri": "https://localhost:8080/"
        },
        "id": "FS49ZzMM1B_4",
        "outputId": "382bf24a-3557-4ada-8b1d-54ea19153c59"
      },
      "execution_count": 4,
      "outputs": [
        {
          "output_type": "stream",
          "name": "stdout",
          "text": [
            "﻿{\n",
            "    \"session_name\": \"test\",\n",
            "    \"session_description\": \"test\",\n",
            "    \"design_state_data\": {\n",
            "\n",
            "      \"session_info\" : {\n",
            "        \"project_id\": \"1\",\n",
            "        \"experiment_id\": \"kkkk-11\",\n",
            "        \"dataset\":\"iris_modified.csv\",\n",
            "        \"session_name\": \"test\",\n",
            "        \"session_description\": \"test\"\n",
            "        },\n",
            "\n",
            "      \"target\": {\n",
            "        \"prediction_type\": \"Regression\",\n",
            "        \"target\": \"petal_width\",\n",
            "        \"type\":\"regression\",\n",
            "        \"partitioning\": true\n",
            "      },\n",
            "      \"train\": {\n",
            "        \"policy\": \"Split the dataset\",\n",
            "        \"time_variable\": \"sepal_length\",\n",
            "        \"sampling_method\": \"No sampling(whole data)\",\n",
            "        \"split\": \"Randomly\",\n",
            "        \"k_fold\": false,\n",
            "        \"train_ratio\": 0,\n",
            "        \"random_seed\": 0\n",
            "      },\n",
            "      \"metrics\": {\n",
            "        \"optomize_model_hyperparameters_for\": \"AUC\",\n",
            "        \"optimize_threshold_for\": \"F1 Score\",\n",
            "        \"compute_lift_at\": 0,\n",
            "        \"cost_matrix_gain_for_true_prediction_true_result\": 1,\n",
            "        \"cost_matrix_gain_for_true_prediction_false_result\": 0,\n",
            "        \"cost_matrix_gain_for_false_prediction_true_result\": 0,\n",
            "        \"cost_matrix_gain_for_false_prediction_false_result\": 0\n",
            "      },\n",
            "      \"feature_handling\": {\n",
            "        \"sepal_length\": {\n",
            "          \"feature_name\": \"sepal_length\",\n",
            "          \"is_selected\": true,\n",
            "          \"feature_variable_type\": \"numerical\",\n",
            "          \"feature_details\": {\n",
            "            \"numerical_handling\": \"Keep as regular numerical feature\",\n",
            "            \"rescaling\": \"No rescaling\",\n",
            "            \"make_derived_feats\": false,\n",
            "            \"missing_values\": \"Impute\",\n",
            "            \"impute_with\": \"Average of values\",\n",
            "            \"impute_value\": 0\n",
            "          }\n",
            "        },\n",
            "        \"sepal_width\": {\n",
            "          \"feature_name\": \"sepal_width\",\n",
            "          \"is_selected\": true,\n",
            "          \"feature_variable_type\": \"numerical\",\n",
            "          \"feature_details\": {\n",
            "            \"numerical_handling\": \"Keep as regular numerical feature\",\n",
            "            \"rescaling\": \"No rescaling\",\n",
            "            \"make_derived_feats\": false,\n",
            "            \"missing_values\": \"Impute\",\n",
            "            \"impute_with\": \"custom\",\n",
            "            \"impute_value\": -1\n",
            "          }\n",
            "        },\n",
            "        \"petal_length\": {\n",
            "          \"feature_name\": \"petal_length\",\n",
            "          \"is_selected\": true,\n",
            "          \"feature_variable_type\": \"numerical\",\n",
            "          \"feature_details\": {\n",
            "            \"numerical_handling\": \"Keep as regular numerical feature\",\n",
            "            \"rescaling\": \"No rescaling\",\n",
            "            \"make_derived_feats\": false,\n",
            "            \"missing_values\": \"Impute\",\n",
            "            \"impute_with\": \"Average of values\",\n",
            "            \"impute_value\": 0\n",
            "          }\n",
            "        },\n",
            "        \"petal_width\": {\n",
            "          \"feature_name\": \"petal_width\",\n",
            "          \"is_selected\": true,\n",
            "          \"feature_variable_type\": \"numerical\",\n",
            "          \"feature_details\": {\n",
            "            \"numerical_handling\": \"Keep as regular numerical feature\",\n",
            "            \"rescaling\": \"No rescaling\",\n",
            "            \"make_derived_feats\": false,\n",
            "            \"missing_values\": \"Impute\",\n",
            "            \"impute_with\": \"custom\",\n",
            "            \"impute_value\": -2\n",
            "          }\n",
            "        },\n",
            "        \"species\": {\n",
            "          \"feature_name\": \"species\",\n",
            "          \"is_selected\": true,\n",
            "          \"feature_variable_type\": \"text\",\n",
            "          \"feature_details\": {\n",
            "            \"text_handling\": \"Tokenize and hash\",\n",
            "            \"hash_columns\": 0\n",
            "          }\n",
            "        }\n",
            "      },\n",
            "      \"feature_generation\": {\n",
            "        \"linear_interactions\": [[\"petal_length\", \"sepal_width\"]],\n",
            "        \"linear_scalar_type\": \"robust\",\n",
            "        \"polynomial_interactions\": [\n",
            "          \"petal_length/sepal_width\",\n",
            "          \"petal_width/species\"\n",
            "        ],\n",
            "        \"explicit_pairwise_interactions\": [\n",
            "          \"sepal_width/sepal_length\",\n",
            "          \"petal_width/sepal_length\"\n",
            "        ]\n",
            "      },\n",
            "      \"feature_reduction\": {\n",
            "        \"feature_reduction_method\": \"Tree-based\",\n",
            "        \"num_of_features_to_keep\": \"4\",\n",
            "        \"num_of_trees\": \"5\",\n",
            "        \"depth_of_trees\": \"6\"\n",
            "      },\n",
            "      \"hyperparameters\": {\n",
            "        \"stratergy\": \"Grid Search\",\n",
            "        \"shuffle_grid\": true,\n",
            "        \"random_state\": 1,\n",
            "        \"max_iterations\": 2,\n",
            "        \"max_search_time\": 3,\n",
            "        \"parallelism\": 5,\n",
            "        \"cross_validation_stratergy\": \"Time-based K-fold(with overlap)\",\n",
            "        \"num_of_folds\": 6,\n",
            "        \"split_ratio\": 0,\n",
            "        \"stratified\": true\n",
            "      },\n",
            "      \"weighting_stratergy\": {\n",
            "        \"weighting_stratergy_method\": \"Sample weights\",\n",
            "        \"weighting_stratergy_weight_variable\": \"petal_length\"\n",
            "      },\n",
            "      \"probability_calibration\": {\n",
            "        \"probability_calibration_method\": \"Sigmoid - Platt Scaling\"\n",
            "      },\n",
            "      \"algorithms\": {\n",
            "        \"RandomForestClassifier\": {\n",
            "          \"model_name\": \"Random Forest Classifier\",\n",
            "          \"is_selected\": false,\n",
            "          \"min_trees\": 10,\n",
            "          \"max_trees\": 30,\n",
            "          \"feature_sampling_statergy\": \"Default\",\n",
            "          \"min_depth\": 20,\n",
            "          \"max_depth\": 30,\n",
            "          \"min_samples_per_leaf_min_value\": 5,\n",
            "          \"min_samples_per_leaf_max_value\": 50,\n",
            "          \"parallelism\": 0\n",
            "        },\n",
            "        \"RandomForestRegressor\": {\n",
            "          \"model_name\": \"Random Forest Regressor\",\n",
            "          \"is_selected\": true,\n",
            "          \"min_trees\": 10,\n",
            "          \"max_trees\": 20,\n",
            "          \"feature_sampling_statergy\": \"Default\",\n",
            "          \"min_depth\": 20,\n",
            "          \"max_depth\": 25,\n",
            "          \"min_samples_per_leaf_min_value\": 5,\n",
            "          \"min_samples_per_leaf_max_value\": 10,\n",
            "          \"parallelism\": 0\n",
            "        },\n",
            "        \"GBTClassifier\": {\n",
            "          \"model_name\": \"Gradient Boosted Trees\",\n",
            "          \"is_selected\": false,\n",
            "          \"num_of_BoostingStages\": [67, 89],\n",
            "          \"feature_sampling_statergy\": \"Fixed number\",\n",
            "          \"learningRate\": [],\n",
            "          \"use_deviance\": true,\n",
            "          \"use_exponential\": false,\n",
            "          \"fixed_number\": 22,\n",
            "          \"min_subsample\": 1,\n",
            "          \"max_subsample\": 2,\n",
            "          \"min_stepsize\":0.1,\n",
            "          \"max_stepsize\":0.5, \n",
            "          \"min_iter\":20,\n",
            "          \"max_iter\":40,\n",
            "          \"min_depth\":5,\n",
            "          \"max_depth\":7\n",
            "\n",
            "        },\n",
            "        \"GBTRegressor\": {\n",
            "          \"model_name\": \"Gradient Boosted Trees\",\n",
            "          \"is_selected\": false,\n",
            "          \"num_of_BoostingStages\": [67, 89],\n",
            "          \"feature_sampling_statergy\": \"Fixed number\",\n",
            "          \"use_deviance\": true,\n",
            "          \"use_exponential\": false,\n",
            "          \"fixed_number\": 22,\n",
            "          \"min_subsample\": 1,\n",
            "          \"max_subsample\": 2,\n",
            "          \"min_stepsize\":0.1,\n",
            "          \"max_stepsize\":0.5, \n",
            "          \"min_iter\":20,\n",
            "          \"max_iter\":40,\n",
            "          \"min_depth\":5,\n",
            "          \"max_depth\":7\n",
            "        },\n",
            "        \"LinearRegression\": {\n",
            "          \"model_name\": \"LinearRegression\",\n",
            "          \"is_selected\": false,\n",
            "          \"parallelism\": 2,\n",
            "          \"min_iter\":30,\n",
            "          \"max_iter\":50,\n",
            "          \"min_regparam\":0.5,\n",
            "          \"max_regparam\":0.8,\n",
            "          \"min_elasticnet\":0.5,\n",
            "          \"max_elasticnet\":0.8\n",
            "        },\n",
            "        \"LogisticRegression\": {\n",
            "          \"model_name\": \"LogisticRegression\",\n",
            "          \"is_selected\": false,\n",
            "          \"parallelism\": 2,\n",
            "          \"min_iter\":30,\n",
            "          \"max_iter\":50,\n",
            "          \"min_regparam\":0.5,\n",
            "          \"max_regparam\":0.8,\n",
            "          \"min_elasticnet\":0.5,\n",
            "          \"max_elasticnet\":0.8\n",
            "        },\n",
            "        \"RidgeRegression\": {\n",
            "          \"model_name\": \"RidgeRegression\",\n",
            "          \"is_selected\": false,\n",
            "          \"regularization_term\": \"Specify values to test\",\n",
            "          \"min_iter\":30,\n",
            "          \"max_iter\":50,\n",
            "          \"min_regparam\":0.5,\n",
            "          \"max_regparam\":0.8\n",
            "        },\n",
            "        \"LassoRegression\": {\n",
            "          \"model_name\": \"Lasso Regression\",\n",
            "          \"is_selected\": false,\n",
            "          \"regularization_term\": \"Specify values to test\",\n",
            "          \"min_iter\":30,\n",
            "          \"max_iter\":50,\n",
            "          \"min_regparam\":0.5,\n",
            "          \"max_regparam\":0.8\n",
            "        },\n",
            "        \"ElasticNetRegression\": {\n",
            "          \"model_name\": \"Lasso Regression\",\n",
            "          \"is_selected\": false,\n",
            "          \"regularization_term\": \"Specify values to test\",\n",
            "          \"min_iter\":30,\n",
            "          \"max_iter\":50,\n",
            "          \"min_regparam\":0.5,\n",
            "          \"max_regparam\":0.8,\n",
            "          \"min_elasticnet\":0.5,\n",
            "          \"max_elasticnet\":0.8\n",
            "        },\n",
            "        \"xg_boost\": {\n",
            "          \"model_name\": \"XG Boost\",\n",
            "          \"is_selected\": false,\n",
            "          \"use_gradient_boosted_tree\": true,\n",
            "          \"dart\": true,\n",
            "          \"tree_method\": \"\",\n",
            "          \"random_state\": 0,\n",
            "          \"max_num_of_trees\": 0,\n",
            "          \"early_stopping\": true,\n",
            "          \"early_stopping_rounds\": 2,\n",
            "          \"max_depth_of_tree\": [56, 89], \n",
            "          \"learningRate\": [89, 76],\n",
            "          \"l1_regularization\": [77],\n",
            "          \"l2_regularization\": [78],\n",
            "          \"gamma\": [68],\n",
            "          \"min_child_weight\": [67],\n",
            "          \"sub_sample\": [67],\n",
            "          \"col_sample_by_tree\": [67],\n",
            "          \"replace_missing_values\": false,\n",
            "          \"parallelism\": 0\n",
            "        },\n",
            "        \"DecisionTreeRegressor\": {\n",
            "          \"model_name\": \"Decision Tree\",\n",
            "          \"is_selected\": false,\n",
            "          \"min_depth\":4,\n",
            "          \"max_depth\": 7,\n",
            "          \"use_gini\": false,\n",
            "          \"use_entropy\": true,\n",
            "          \"min_samples_per_leaf\": [12, 6],\n",
            "          \"use_best\": true,\n",
            "          \"use_random\": true\n",
            "        },\n",
            "        \"DecisionTreeClassifier\": {\n",
            "          \"model_name\": \"Decision Tree\",\n",
            "          \"is_selected\": false,\n",
            "          \"min_depth\":4,\n",
            "          \"max_depth\": 7,\n",
            "          \"use_gini\": false,\n",
            "          \"use_entropy\": true,\n",
            "          \"min_samples_per_leaf\": [12, 6],\n",
            "          \"use_best\": true,\n",
            "          \"use_random\": true\n",
            "        },\n",
            "        \"SVM\": {\n",
            "          \"model_name\": \"Support Vector Machine\",\n",
            "          \"is_selected\": false,\n",
            "          \"linear_kernel\": true,\n",
            "          \"rep_kernel\": true,\n",
            "          \"polynomial_kernel\": true,\n",
            "          \"sigmoid_kernel\": true,\n",
            "          \"c_value\": [566, 79],\n",
            "          \"auto\": true,\n",
            "          \"scale\": true,\n",
            "          \"custom_gamma_values\": true,\n",
            "          \"tolerance\": 7,\n",
            "          \"max_iterations\": 7\n",
            "        },\n",
            "        \"SGD\": {\n",
            "          \"model_name\": \"Stochastic Gradient Descent\",\n",
            "          \"is_selected\": false,\n",
            "          \"use_logistics\": true,\n",
            "          \"use_modified_hubber_loss\": false,\n",
            "          \"max_iterations\": false,\n",
            "          \"tolerance\": 56,\n",
            "          \"use_l1_regularization\": \"on\",\n",
            "          \"use_l2_regularization\": \"on\",\n",
            "          \"use_elastic_net_regularization\": true,\n",
            "          \"alpha_value\": [79, 56],\n",
            "          \"parallelism\": 1\n",
            "        },\n",
            "        \"KNN\": {\n",
            "          \"model_name\": \"KNN\",\n",
            "          \"is_selected\": false,\n",
            "          \"k_value\": [78],\n",
            "          \"distance_weighting\": true,\n",
            "          \"neighbour_finding_algorithm\": \"Automatic\",\n",
            "          \"random_state\": 0,\n",
            "          \"p_value\": 0\n",
            "        },\n",
            "        \"extra_random_trees\": {\n",
            "          \"model_name\": \"Extra Random Trees\",\n",
            "          \"is_selected\": false,\n",
            "          \"num_of_trees\": [45, 489],\n",
            "          \"feature_sampling_statergy\": \"Square root and Logarithm\",\n",
            "          \"max_depth\": [12, 45],\n",
            "          \"min_samples_per_leaf\": [78, 56],\n",
            "          \"parallelism\": 3\n",
            "        },\n",
            "        \"neural_network\": {\n",
            "          \"model_name\": \"Neural Network\",\n",
            "          \"is_selected\": false,\n",
            "          \"hidden_layer_sizes\": [67, 89],\n",
            "          \"activation\": \"\",\n",
            "          \"alpha_value\": 0,\n",
            "          \"max_iterations\": 0,\n",
            "          \"convergence_tolerance\": 0,\n",
            "          \"early_stopping\": true,\n",
            "          \"solver\": \"ADAM\",\n",
            "          \"shuffle_data\": true,\n",
            "          \"initial_learning_rate\": 0,\n",
            "          \"automatic_batching\": true,\n",
            "          \"beta_1\": 0,\n",
            "          \"beta_2\": 0,\n",
            "          \"epsilon\": 0,\n",
            "          \"power_t\": 0,\n",
            "          \"momentum\": 0,\n",
            "          \"use_nesterov_momentum\": false\n",
            "        }\n",
            "      }\n",
            "    }\n",
            "  }\n"
          ]
        }
      ]
    },
    {
      "cell_type": "code",
      "source": [
        "df = pd.read_csv('/content/iris.csv')\n",
        "print(df)"
      ],
      "metadata": {
        "colab": {
          "base_uri": "https://localhost:8080/"
        },
        "id": "2fL8Dp3tqnyh",
        "outputId": "39bfd27c-0c18-4496-f5d8-684cb13aa00e"
      },
      "execution_count": 5,
      "outputs": [
        {
          "output_type": "stream",
          "name": "stdout",
          "text": [
            "     sepal_length  sepal_width  petal_length  petal_width         species\n",
            "0             5.1          3.5           1.4          0.2     Iris-setosa\n",
            "1             4.9          3.0           1.4          0.2     Iris-setosa\n",
            "2             4.7          3.2           1.3          0.2     Iris-setosa\n",
            "3             4.6          3.1           1.5          0.2     Iris-setosa\n",
            "4             5.0          3.6           1.4          0.2     Iris-setosa\n",
            "..            ...          ...           ...          ...             ...\n",
            "145           6.7          3.0           5.2          2.3  Iris-virginica\n",
            "146           6.3          2.5           5.0          1.9  Iris-virginica\n",
            "147           6.5          3.0           5.2          2.0  Iris-virginica\n",
            "148           6.2          3.4           5.4          2.3  Iris-virginica\n",
            "149           5.9          3.0           5.1          1.8  Iris-virginica\n",
            "\n",
            "[150 rows x 5 columns]\n"
          ]
        }
      ]
    },
    {
      "cell_type": "code",
      "source": [
        "df.isnull().sum()"
      ],
      "metadata": {
        "colab": {
          "base_uri": "https://localhost:8080/"
        },
        "id": "s1ReMIm_q6iF",
        "outputId": "a039eec1-f5f0-4841-d3fe-d4ecf9760f6c"
      },
      "execution_count": 6,
      "outputs": [
        {
          "output_type": "execute_result",
          "data": {
            "text/plain": [
              "sepal_length    0\n",
              "sepal_width     0\n",
              "petal_length    0\n",
              "petal_width     0\n",
              "species         0\n",
              "dtype: int64"
            ]
          },
          "metadata": {},
          "execution_count": 6
        }
      ]
    },
    {
      "cell_type": "code",
      "source": [
        "df.info()"
      ],
      "metadata": {
        "colab": {
          "base_uri": "https://localhost:8080/"
        },
        "id": "VadSdXSO37Iy",
        "outputId": "3fdf0dc6-d4e7-4dbf-92f3-75176e7b8b35"
      },
      "execution_count": 7,
      "outputs": [
        {
          "output_type": "stream",
          "name": "stdout",
          "text": [
            "<class 'pandas.core.frame.DataFrame'>\n",
            "RangeIndex: 150 entries, 0 to 149\n",
            "Data columns (total 5 columns):\n",
            " #   Column        Non-Null Count  Dtype  \n",
            "---  ------        --------------  -----  \n",
            " 0   sepal_length  150 non-null    float64\n",
            " 1   sepal_width   150 non-null    float64\n",
            " 2   petal_length  150 non-null    float64\n",
            " 3   petal_width   150 non-null    float64\n",
            " 4   species       150 non-null    object \n",
            "dtypes: float64(4), object(1)\n",
            "memory usage: 6.0+ KB\n"
          ]
        }
      ]
    },
    {
      "cell_type": "code",
      "source": [
        "df['species'].value_counts()"
      ],
      "metadata": {
        "id": "F4Fr3nFd4C6r",
        "outputId": "606376ea-17ff-48e2-a125-e66ef49d2534",
        "colab": {
          "base_uri": "https://localhost:8080/"
        }
      },
      "execution_count": 8,
      "outputs": [
        {
          "output_type": "execute_result",
          "data": {
            "text/plain": [
              "Iris-setosa        50\n",
              "Iris-versicolor    50\n",
              "Iris-virginica     50\n",
              "Name: species, dtype: int64"
            ]
          },
          "metadata": {},
          "execution_count": 8
        }
      ]
    }
  ]
}